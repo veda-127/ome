{
  "nbformat": 4,
  "nbformat_minor": 0,
  "metadata": {
    "colab": {
      "provenance": [],
      "authorship_tag": "ABX9TyPwqaQpOckniFlXcbc/1Ajr",
      "include_colab_link": true
    },
    "kernelspec": {
      "name": "python3",
      "display_name": "Python 3"
    },
    "language_info": {
      "name": "python"
    }
  },
  "cells": [
    {
      "cell_type": "markdown",
      "metadata": {
        "id": "view-in-github",
        "colab_type": "text"
      },
      "source": [
        "<a href=\"https://colab.research.google.com/github/veda-127/ome/blob/main/variables.ipynb\" target=\"_parent\"><img src=\"https://colab.research.google.com/assets/colab-badge.svg\" alt=\"Open In Colab\"/></a>"
      ]
    },
    {
      "cell_type": "code",
      "execution_count": 2,
      "metadata": {
        "colab": {
          "base_uri": "https://localhost:8080/",
          "height": 106
        },
        "id": "OLAv-NAQhwWt",
        "outputId": "94a98703-4555-4c00-e1e9-b42e667c7f68"
      },
      "outputs": [
        {
          "output_type": "error",
          "ename": "SyntaxError",
          "evalue": "invalid syntax (<ipython-input-2-7eeca80fa6d2>, line 1)",
          "traceback": [
            "\u001b[0;36m  File \u001b[0;32m\"<ipython-input-2-7eeca80fa6d2>\"\u001b[0;36m, line \u001b[0;32m1\u001b[0m\n\u001b[0;31m    git config --global user.name \"FIRST_NAME LAST_NAME\"\u001b[0m\n\u001b[0m        ^\u001b[0m\n\u001b[0;31mSyntaxError\u001b[0m\u001b[0;31m:\u001b[0m invalid syntax\n"
          ]
        }
      ],
      "source": [
        "git config --global user.name \"veda sai samitha\""
      ]
    },
    {
      "source": [
        "# Declare an integer variable\n",
        "my_int = 5\n",
        "\n",
        "# Declare a float variable\n",
        "my_float = 2.71\n",
        "\n",
        "# Declare a string variable\n",
        "my_string = \"Python\"\n",
        "\n",
        "# Declare a boolean variable\n",
        "my_bool = False\n",
        "\n",
        "# Print each variable and its type\n",
        "print(my_int, type(my_int))\n",
        "print(my_float, type(my_float))\n",
        "print(my_string, type(my_string))\n",
        "print(my_bool, type(my_bool))"
      ],
      "cell_type": "code",
      "metadata": {
        "colab": {
          "base_uri": "https://localhost:8080/"
        },
        "id": "inp7pcM6i3w6",
        "outputId": "0db446bb-897a-4358-c849-f342e231f1df"
      },
      "execution_count": 1,
      "outputs": [
        {
          "output_type": "stream",
          "name": "stdout",
          "text": [
            "5 <class 'int'>\n",
            "2.71 <class 'float'>\n",
            "Python <class 'str'>\n",
            "False <class 'bool'>\n"
          ]
        }
      ]
    },
    {
      "cell_type": "code",
      "source": [],
      "metadata": {
        "id": "3_A2kbelkw8l"
      },
      "execution_count": null,
      "outputs": []
    }
  ]
}