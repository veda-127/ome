{
  "nbformat": 4,
  "nbformat_minor": 0,
  "metadata": {
    "colab": {
      "provenance": [],
      "authorship_tag": "ABX9TyNhFXtulhPhhYW81j+pJJjN",
      "include_colab_link": true
    },
    "kernelspec": {
      "name": "python3",
      "display_name": "Python 3"
    },
    "language_info": {
      "name": "python"
    }
  },
  "cells": [
    {
      "cell_type": "markdown",
      "metadata": {
        "id": "view-in-github",
        "colab_type": "text"
      },
      "source": [
        "<a href=\"https://colab.research.google.com/github/veda-127/ome/blob/main/variables.ipynb\" target=\"_parent\"><img src=\"https://colab.research.google.com/assets/colab-badge.svg\" alt=\"Open In Colab\"/></a>"
      ]
    },
    {
      "source": [
        "# Declare an integer variable\n",
        "my_int = 5\n",
        "\n",
        "# Declare a float variable\n",
        "my_float = 2.71\n",
        "\n",
        "# Declare a string variable\n",
        "my_string = \"Python\"\n",
        "\n",
        "# Declare a boolean variable\n",
        "my_bool = False\n",
        "\n",
        "# Print each variable and its type\n",
        "print(my_int, type(my_int))\n",
        "print(my_float, type(my_float))\n",
        "print(my_string, type(my_string))\n",
        "print(my_bool, type(my_bool))"
      ],
      "cell_type": "code",
      "metadata": {
        "colab": {
          "base_uri": "https://localhost:8080/"
        },
        "id": "inp7pcM6i3w6",
        "outputId": "0db446bb-897a-4358-c849-f342e231f1df"
      },
      "execution_count": 1,
      "outputs": [
        {
          "output_type": "stream",
          "name": "stdout",
          "text": [
            "5 <class 'int'>\n",
            "2.71 <class 'float'>\n",
            "Python <class 'str'>\n",
            "False <class 'bool'>\n"
          ]
        }
      ]
    },
    {
      "cell_type": "code",
      "source": [
        "def Calculate_grade(subject1,subject2,subject3,n):\n",
        "  n=(subject1+subject2+subject3)/3\n",
        "subject1= float(input(\"Enter marks for subject 1: \"))\n",
        "subject2 = float(input(\"Enter marks for subject 2: \"))\n",
        "subject3 = float(input(\"Enter marks for subject 3: \"))\n",
        "if 100<=n>=90:\n",
        "  print(\"Grade: A\")\n",
        "if 80<=n<=89:\n",
        "  print(\"Grade: B\")\n",
        "if 70<+n<=79:\n",
        "  print(\"Grade: c\")\n",
        "else:\n",
        "  print(\"fail\")\n"
      ],
      "metadata": {
        "colab": {
          "base_uri": "https://localhost:8080/"
        },
        "id": "3_A2kbelkw8l",
        "outputId": "db7d6f96-e0ab-4a87-810c-ea915de139c6"
      },
      "execution_count": 10,
      "outputs": [
        {
          "output_type": "stream",
          "name": "stdout",
          "text": [
            "Enter marks for subject 1: 60\n",
            "Enter marks for subject 2: 80\n",
            "Enter marks for subject 3: 40\n",
            "fail\n"
          ]
        }
      ]
    },
    {
      "cell_type": "code",
      "source": [],
      "metadata": {
        "id": "KPpQOelvtuk6"
      },
      "execution_count": null,
      "outputs": []
    }
  ]
}