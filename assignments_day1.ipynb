{
  "nbformat": 4,
  "nbformat_minor": 0,
  "metadata": {
    "colab": {
      "provenance": [],
      "authorship_tag": "ABX9TyMB5T8X7rQHE+h3jgLLxIqd",
      "include_colab_link": true
    },
    "kernelspec": {
      "name": "python3",
      "display_name": "Python 3"
    },
    "language_info": {
      "name": "python"
    }
  },
  "cells": [
    {
      "cell_type": "markdown",
      "metadata": {
        "id": "view-in-github",
        "colab_type": "text"
      },
      "source": [
        "<a href=\"https://colab.research.google.com/github/veda-127/ome/blob/main/assignments_day1.ipynb\" target=\"_parent\"><img src=\"https://colab.research.google.com/assets/colab-badge.svg\" alt=\"Open In Colab\"/></a>"
      ]
    },
    {
      "cell_type": "code",
      "execution_count": null,
      "metadata": {
        "colab": {
          "base_uri": "https://localhost:8080/"
        },
        "id": "pxBQZa7PNCQY",
        "outputId": "d4e2c014-c178-400d-a6a4-57a6cb6cbfef"
      },
      "outputs": [
        {
          "output_type": "stream",
          "name": "stdout",
          "text": [
            "99 <class 'int'>\n",
            "3.14 <class 'float'>\n",
            "Day1 Assignment <class 'str'>\n",
            "True <class 'bool'>\n"
          ]
        }
      ],
      "source": [
        "integer_type = 99\n",
        "float_type = 3.14\n",
        "String_type = \"Day1 Assignment\"\n",
        "boolean_type = True\n",
        "print(integer_type,type(integer_type))\n",
        "print(float_type,type(float_type))\n",
        "print(String_type,type(String_type))\n",
        "print(boolean_type,type(boolean_type))"
      ]
    },
    {
      "cell_type": "code",
      "source": [
        "integer_type = 99\n",
        "float_type = 3.14\n",
        "String_type = \"Day1 Assignment\"\n",
        "boolean_type = True\n",
        "print(integer_type,type(integer_type))\n",
        "print(float_type,type(float_type))\n",
        "print(String_type,type(String_type))\n",
        "print(boolean_type,type(boolean_type))"
      ],
      "metadata": {
        "id": "wYRQ2lRUNOHO",
        "colab": {
          "base_uri": "https://localhost:8080/"
        },
        "outputId": "de9e8161-852d-4122-ccf0-8c962e792c3c"
      },
      "execution_count": 2,
      "outputs": [
        {
          "output_type": "stream",
          "name": "stdout",
          "text": [
            "99 <class 'int'>\n",
            "3.14 <class 'float'>\n",
            "Day1 Assignment <class 'str'>\n",
            "True <class 'bool'>\n"
          ]
        }
      ]
    },
    {
      "cell_type": "code",
      "source": [
        "#Create a List, tuple and Dictionary with 5 elements in it and how to access few elements based on the index. Try  with different examples\n",
        "my_list = [10,20,30,40,50]\n",
        "print(my_list)\n",
        "print(my_list[0])\n",
        "print(my_list[1])\n",
        "print(my_list[-1])\n",
        "print(my_list[2:4])"
      ],
      "metadata": {
        "colab": {
          "base_uri": "https://localhost:8080/"
        },
        "id": "dkgl3eTsOaFU",
        "outputId": "5eb7b89b-6781-4168-a564-21370fc02f52"
      },
      "execution_count": 3,
      "outputs": [
        {
          "output_type": "stream",
          "name": "stdout",
          "text": [
            "[10, 20, 30, 40, 50]\n",
            "10\n",
            "20\n",
            "50\n",
            "[30, 40]\n"
          ]
        }
      ]
    },
    {
      "cell_type": "code",
      "source": [
        "my_tuple = (10,20,30,40,50)\n",
        "print(my_tuple)\n",
        "print(my_tuple[0])\n",
        "print(my_tuple[1])\n",
        "print(my_tuple[-1])\n",
        "print(my_tuple[2:4])\n",
        "print(my_tuple[2:])"
      ],
      "metadata": {
        "colab": {
          "base_uri": "https://localhost:8080/"
        },
        "id": "z8wEh0XOOdAm",
        "outputId": "a5694073-0358-4b0c-bb34-62dc1126ef06"
      },
      "execution_count": 4,
      "outputs": [
        {
          "output_type": "stream",
          "name": "stdout",
          "text": [
            "(10, 20, 30, 40, 50)\n",
            "10\n",
            "20\n",
            "50\n",
            "(30, 40)\n",
            "(30, 40, 50)\n"
          ]
        }
      ]
    },
    {
      "cell_type": "code",
      "source": [
        "my_dict={\"name\":\"veda sai samitha\",\n",
        "         \"rollno\":\"2211CS020624\",\n",
        "         \"year\":3,\n",
        "         \"section\":\"omega\",\n",
        "         \"clg_name\":\"MRU\"\n",
        "        }\n",
        "print(my_dict,\"\\n\")\n",
        "print(my_dict[\"name\"])\n",
        "print(my_dict[\"rollno\"])"
      ],
      "metadata": {
        "colab": {
          "base_uri": "https://localhost:8080/"
        },
        "id": "RBmUbpA8Oe8U",
        "outputId": "c027420b-d468-464a-dede-694f656050b8"
      },
      "execution_count": 5,
      "outputs": [
        {
          "output_type": "stream",
          "name": "stdout",
          "text": [
            "{'name': 'veda sai samitha', 'rollno': '2211CS020624', 'year': 3, 'section': 'omega', 'clg_name': 'MRU'} \n",
            "\n",
            "veda sai samitha\n",
            "2211CS020624\n"
          ]
        }
      ]
    },
    {
      "cell_type": "code",
      "source": [
        "python=int(input(\"enter the marks of python: \"))\n",
        "java=int(input(\"enter the marks of java: \"))\n",
        "dbms=int(input(\"enter the marks of dbms: \"))\n",
        "average = (python+java+dbms)/3\n",
        "print (average)\n",
        "if (average >= 90):\n",
        "    print(\"GRADE : A\")\n",
        "elif (80 <= average < 89):\n",
        "    print(\"GRADE : B\")\n",
        "elif (70 <= average < 79):\n",
        "    print(\"GRADE : C\")\n",
        "else:\n",
        "    print(\"GRADE : FAIL\")"
      ],
      "metadata": {
        "colab": {
          "base_uri": "https://localhost:8080/"
        },
        "id": "rn-94a72Oj3m",
        "outputId": "7c273b47-240a-4276-b569-a4d4dc32c298"
      },
      "execution_count": 6,
      "outputs": [
        {
          "output_type": "stream",
          "name": "stdout",
          "text": [
            "enter the marks of python: 50\n",
            "enter the marks of java: 90\n",
            "enter the marks of dbms: 75\n",
            "71.66666666666667\n",
            "GRADE : C\n"
          ]
        }
      ]
    },
    {
      "cell_type": "code",
      "source": [
        "#Write a Python program to calculate the sum of all even numbers between 1 and a given positive integer n\n",
        "n = int(input(\"enter the n value: \"))\n",
        "numbers = 0\n",
        "for i in range(1,n+1):\n",
        "    if(i % 2 == 0):\n",
        "        numbers += i\n",
        "print(\" the sum of the numbers from 1 to \", n, \"is: \", numbers)"
      ],
      "metadata": {
        "colab": {
          "base_uri": "https://localhost:8080/"
        },
        "id": "JynUnjbLOmws",
        "outputId": "d9dbe63d-b29f-4d2b-fd20-bdcd4394ccad"
      },
      "execution_count": 7,
      "outputs": [
        {
          "output_type": "stream",
          "name": "stdout",
          "text": [
            "enter the n value: 5\n",
            " the sum of the numbers from 1 to  5 is:  6\n"
          ]
        }
      ]
    },
    {
      "cell_type": "code",
      "source": [],
      "metadata": {
        "id": "7aBRkP6_OvNw"
      },
      "execution_count": null,
      "outputs": []
    }
  ]
}